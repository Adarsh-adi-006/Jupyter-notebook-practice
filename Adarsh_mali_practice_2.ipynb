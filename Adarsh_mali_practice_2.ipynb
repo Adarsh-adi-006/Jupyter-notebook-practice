{
 "cells": [
  {
   "cell_type": "markdown",
   "id": "73a035f3-996d-43bd-9381-5a90e631f9f4",
   "metadata": {},
   "source": [
    "## Day 1"
   ]
  },
  {
   "cell_type": "markdown",
   "id": "f0b307fc-d5ae-45c5-acaf-127aa031b808",
   "metadata": {},
   "source": [
    "1. Write a program that takes a year as input. Determine if the year is a leap year."
   ]
  },
  {
   "cell_type": "code",
   "execution_count": 32,
   "id": "af974895-c1bb-40c6-89d0-a42c32d1b3b6",
   "metadata": {},
   "outputs": [
    {
     "name": "stdin",
     "output_type": "stream",
     "text": [
      "Enter the year: 2023\n"
     ]
    },
    {
     "name": "stdout",
     "output_type": "stream",
     "text": [
      "2023 is not leap year\n"
     ]
    }
   ],
   "source": [
    "year = int(input(\"Enter the year:\"))\n",
    "if year % 4 == 0:\n",
    "    if year % 100 ==0:\n",
    "        if year % 400 == 0:\n",
    "            print(f\"{year} is leap year\")\n",
    "        else:\n",
    "            print(f\"{year} is not leap year\")\n",
    "    else:\n",
    "        print(f\"{year} is leap year\")\n",
    "else:\n",
    "    print(f\"{year} is not leap year\")"
   ]
  },
  {
   "cell_type": "markdown",
   "id": "3948e4ab-b52f-4f81-afab-44629baac2c6",
   "metadata": {},
   "source": [
    "2. Write a program that takes an integer as input and checks if \"The number is divisible by 3 only.\""
   ]
  },
  {
   "cell_type": "code",
   "execution_count": 10,
   "id": "55b4346c-dc6d-4f67-8df8-031f2b6c9193",
   "metadata": {},
   "outputs": [
    {
     "name": "stdin",
     "output_type": "stream",
     "text": [
      "Enter a integer: 22\n"
     ]
    },
    {
     "name": "stdout",
     "output_type": "stream",
     "text": [
      "22 is not divisible by 3\n"
     ]
    }
   ],
   "source": [
    "num = int(input(\"Enter a integer:\"))\n",
    "if num % 3 == 0:\n",
    "    print(f\"{num} is divisible by 3\")\n",
    "else:\n",
    "    print(f\"{num} is not divisible by 3\")"
   ]
  },
  {
   "cell_type": "markdown",
   "id": "d5e31808-814d-4dda-8ac1-9630b2130af3",
   "metadata": {},
   "source": [
    "3. Write a program that takes two numbers as input and prints the smaller of the two"
   ]
  },
  {
   "cell_type": "code",
   "execution_count": 18,
   "id": "bc0d4b64-afe8-4cc0-87bd-b6c74854e795",
   "metadata": {},
   "outputs": [
    {
     "name": "stdin",
     "output_type": "stream",
     "text": [
      "Enter first number: 25\n",
      "Enter seconde number: 26\n"
     ]
    },
    {
     "name": "stdout",
     "output_type": "stream",
     "text": [
      "25 is smaller value\n"
     ]
    }
   ],
   "source": [
    "A = int(input(\"Enter first number:\"))\n",
    "B = int(input(\"Enter seconde number:\"))\n",
    "if A>B:\n",
    "    print(f\"{B} is smaller value\")\n",
    "elif A == B:\n",
    "    print(\"Both are equal\")\n",
    "else:\n",
    "    print(f\"{A} is smaller value\")"
   ]
  },
  {
   "cell_type": "markdown",
   "id": "ff51d1ac-7472-4ebc-9c9c-1fa9c0a0ffcc",
   "metadata": {},
   "source": [
    "4. Write a program that takes two numbers as input and prints the larger of the two"
   ]
  },
  {
   "cell_type": "code",
   "execution_count": 20,
   "id": "870f3132-ae8b-4d17-8da4-e79d19a07582",
   "metadata": {},
   "outputs": [
    {
     "name": "stdin",
     "output_type": "stream",
     "text": [
      "Enter first number 45\n",
      "Enter seconde number 65\n"
     ]
    },
    {
     "name": "stdout",
     "output_type": "stream",
     "text": [
      "65 is larger value\n"
     ]
    }
   ],
   "source": [
    "A = int(input(\"Enter first number\"))\n",
    "B = int(input(\"Enter seconde number\"))\n",
    "if A>B:\n",
    "    print(f\"{A} is larger value\")\n",
    "elif A ==B:\n",
    "    print(\"Both are equal values\")\n",
    "else:\n",
    "    print(f\"{B} is larger value\")"
   ]
  },
  {
   "cell_type": "markdown",
   "id": "81df900d-f04e-4748-8572-de6cb68aba15",
   "metadata": {},
   "source": [
    "5. Write a program that takes a single letter as input. Determine if it's a vowel (a, e, i, o, u - consider both uppercase and lowercase) or a consonant."
   ]
  },
  {
   "cell_type": "code",
   "execution_count": 27,
   "id": "93b6018b-29c8-468e-974d-7ccd54005b11",
   "metadata": {},
   "outputs": [
    {
     "name": "stdin",
     "output_type": "stream",
     "text": [
      "Enter a latter A\n"
     ]
    },
    {
     "name": "stdout",
     "output_type": "stream",
     "text": [
      "A is vowel\n"
     ]
    }
   ],
   "source": [
    "latter = input(\"Enter a latter\")\n",
    "if len(latter) == 1:\n",
    "    if latter in(\"a\",\"e\",\"i\",\"o\",\"u\",\"A\",\"E\",\"I\",\"O\",\"U\"):\n",
    "        print(f\"{latter} is vowel\")\n",
    "    else:\n",
    "        print(f\"{latter} is consonant\")\n",
    "else:\n",
    "    print(\"Please enter the invalid latter in single latter\")"
   ]
  },
  {
   "cell_type": "markdown",
   "id": "d06d3355-0416-40d2-a72a-2e654b169f95",
   "metadata": {},
   "source": [
    "6. Write a program that takes a person's age as input and prints their age category: \"Child\" (0-12), \"Teenager\" (13-19), \"Adult\" (20-64), or \"Senior\" (65 and above)"
   ]
  },
  {
   "cell_type": "code",
   "execution_count": 29,
   "id": "9601f852-8439-4f78-8430-f9e0bded51bc",
   "metadata": {},
   "outputs": [
    {
     "name": "stdin",
     "output_type": "stream",
     "text": [
      "Enter age of an person: 2\n"
     ]
    },
    {
     "name": "stdout",
     "output_type": "stream",
     "text": [
      "child\n"
     ]
    }
   ],
   "source": [
    "age = int(input(\"Enter age of an person:\"))\n",
    "if age in range(0,12):\n",
    "    print(\"child\")\n",
    "elif age in range(13,19):\n",
    "    print(\"Teenager\")\n",
    "elif age in range(20,64):\n",
    "    print(\"Adult\")\n",
    "else:\n",
    "    print(\"Senior\")"
   ]
  },
  {
   "cell_type": "markdown",
   "id": "31ccdc05-5bc9-4b77-b503-b842a7974a5d",
   "metadata": {},
   "source": [
    "7. Write a program that takes a password as input. If the length of the password is 8 or more characters, print \"Strong password\"; otherwise, print \"Weak password.\""
   ]
  },
  {
   "cell_type": "code",
   "execution_count": 31,
   "id": "2c41d273-e265-473f-960e-833b62a4b378",
   "metadata": {},
   "outputs": [
    {
     "name": "stdin",
     "output_type": "stream",
     "text": [
      "Enter the password Ansh2545loN\n"
     ]
    },
    {
     "name": "stdout",
     "output_type": "stream",
     "text": [
      "Strong password\n"
     ]
    }
   ],
   "source": [
    "password = input(\"Enter the password\")\n",
    "if len(password) >= 8:\n",
    "    print(\"Strong password\")\n",
    "else:\n",
    "    print(\"Weak password\")"
   ]
  },
  {
   "cell_type": "markdown",
   "id": "26e2a5f9-d714-4ebc-ac33-c40f4aa19d2e",
   "metadata": {},
   "source": [
    "## Day2"
   ]
  },
  {
   "cell_type": "markdown",
   "id": "3fc0253b-06f4-4cf1-91d8-e2b0b7cf5ba1",
   "metadata": {},
   "source": [
    "1. What is a for loop in Python, and when would you typically use it?"
   ]
  },
  {
   "cell_type": "code",
   "execution_count": null,
   "id": "b3ef765d-d512-43af-b40a-852b83a4e08e",
   "metadata": {},
   "outputs": [],
   "source": [
    ">> for loop in python : used to iterating over sequences until it meet with the condition that we wants to operate\n",
    "    we use typically in sequences like list,tuple,range(),string"
   ]
  },
  {
   "cell_type": "markdown",
   "id": "9e3eb4e7-6fbc-4bee-8c0f-d3dd72bf7c20",
   "metadata": {},
   "source": [
    "2. Explain the syntax of a basic for loop in Python"
   ]
  },
  {
   "cell_type": "code",
   "execution_count": null,
   "id": "2919e35c-3589-403f-878f-19be7bc9d360",
   "metadata": {},
   "outputs": [],
   "source": [
    "# Syntax of for loop:\n",
    "var = \" \"             # variable to declare\n",
    "for i in var:         # for condition   where (i) = temperory variable to identify, (var) = variable that we declared\n",
    "    print(\" \")        # operation we to pass in for loop"
   ]
  },
  {
   "cell_type": "markdown",
   "id": "749a4eff-49df-4603-b272-790d26eec849",
   "metadata": {},
   "source": [
    "3. What is an iterable? Give a few examples of built-in iterables in Python that are commonly used with for loops."
   ]
  },
  {
   "cell_type": "code",
   "execution_count": null,
   "id": "6848fc87-61eb-4a0d-af08-1b8d85ab6c61",
   "metadata": {},
   "outputs": [],
   "source": [
    ">> An iterable is any Python object capable of returning its elements one at a time\n",
    "built-in iretables in python are - list,set,range(),tuple,string,dictionary"
   ]
  },
  {
   "cell_type": "markdown",
   "id": "0a8afa16-caab-403c-b0e5-da1a07ef2f54",
   "metadata": {},
   "source": [
    "4. How can you iterate through the characters of a string using a for loop?"
   ]
  },
  {
   "cell_type": "code",
   "execution_count": 2,
   "id": "d0661278-b532-4145-b636-06720360e29e",
   "metadata": {},
   "outputs": [
    {
     "name": "stdout",
     "output_type": "stream",
     "text": [
      "Karan\n",
      "Ramesh\n",
      "Ganesh\n",
      "Suresh\n"
     ]
    }
   ],
   "source": [
    "names = [\"Karan\",\"Ramesh\",\"Ganesh\",\"Suresh\"]\n",
    "for char in names:\n",
    "    print(char)"
   ]
  },
  {
   "cell_type": "markdown",
   "id": "6cccde2c-7cc9-4f3d-a958-ad114661486a",
   "metadata": {},
   "source": [
    "5. What is the purpose of the range() function when used with a for loop? Give a simple example"
   ]
  },
  {
   "cell_type": "code",
   "execution_count": 3,
   "id": "a90ee3a7-7eb1-4c73-b9db-f0bd81c09c1d",
   "metadata": {},
   "outputs": [
    {
     "name": "stdout",
     "output_type": "stream",
     "text": [
      "1\n",
      "2\n",
      "3\n",
      "4\n",
      "5\n",
      "6\n",
      "7\n",
      "8\n",
      "9\n"
     ]
    }
   ],
   "source": [
    "# The range() function generates a sequence of numbers,which is especially useful for repeating actions a specific number of times using a for loop.\n",
    "# EX:\n",
    "for i in range(1,10):      #range(start,stop,steps to be jump)\n",
    "    print(i)"
   ]
  },
  {
   "cell_type": "markdown",
   "id": "781d3bce-a6df-4a64-a0ad-9fd5e4d2800d",
   "metadata": {},
   "source": [
    "6. Can you have a for loop inside another for loop? If so, what is this called?"
   ]
  },
  {
   "cell_type": "code",
   "execution_count": null,
   "id": "c3f264d5-9cbb-4f3a-b969-afa99da0e2e3",
   "metadata": {},
   "outputs": [],
   "source": [
    "## yes we can use and it is called {nested for loop}\n",
    "for condition:\n",
    "for condition1"
   ]
  },
  {
   "cell_type": "markdown",
   "id": "4eb24357-e42b-4bc0-bda5-44c6991ab67f",
   "metadata": {},
   "source": [
    "7. What is a while loop in Python, and when would you typically use it?"
   ]
  },
  {
   "cell_type": "markdown",
   "id": "f4700d66-55b3-4cac-8135-25e682f832af",
   "metadata": {},
   "source": [
    ">> while loop in python is  The loop which will keep running as long as the condition is True.\n",
    ">>> The moment the condition becomes False, the loop stops.\n",
    ">>> we use in list,tuple,string,set,dictionary"
   ]
  },
  {
   "cell_type": "markdown",
   "id": "c249fe8e-3cdf-4cdc-8c29-6835effed316",
   "metadata": {},
   "source": [
    "8. Explain the syntax of a basic while loop in Python. What is the condition?"
   ]
  },
  {
   "cell_type": "code",
   "execution_count": null,
   "id": "e8192557-782b-4a76-bdc4-e5af49bf1710",
   "metadata": {},
   "outputs": [],
   "source": [
    "# Syntax:\n",
    "while condition:                       # conditions like comparision \n",
    "    print(\" \")\n",
    "    operation that we want to repeat   # operation like increament or decriment etc."
   ]
  },
  {
   "cell_type": "markdown",
   "id": "50127b74-6787-4790-bb05-fb99d08916c8",
   "metadata": {},
   "source": [
    "9. What is an infinite loop? How can you accidentally create one with a while loop, and how can you prevent it?"
   ]
  },
  {
   "cell_type": "markdown",
   "id": "f3d47c54-2674-485f-8d39-82055cd020ea",
   "metadata": {},
   "source": [
    ">> infinite loop is a loop where loop will not stop and it will keep going iterating to the unlimited.\n",
    ">> we can accidentally create one with while loop"
   ]
  },
  {
   "cell_type": "code",
   "execution_count": 1,
   "id": "e8e65e55-acb6-493a-953b-b058f8e8d6eb",
   "metadata": {},
   "outputs": [
    {
     "name": "stdout",
     "output_type": "stream",
     "text": [
      "next number is:5\n",
      "next number is:4\n",
      "next number is:3\n",
      "next number is:2\n",
      "next number is:1\n"
     ]
    }
   ],
   "source": [
    "num = 5\n",
    "while num > 0:\n",
    "    print(f\"next number is:{num}\")\n",
    "    num -= 1                      # (num += 1) for infinite loop"
   ]
  },
  {
   "cell_type": "code",
   "execution_count": null,
   "id": "b4814a1d-f62a-49c9-955d-843a738a368d",
   "metadata": {},
   "outputs": [],
   "source": [
    "# we can prevent it by using break statement\n",
    "num = 5\n",
    "while num > 0:\n",
    "    print(f\"next number is:{num}\")\n",
    "    num += 1\n",
    "    break"
   ]
  },
  {
   "cell_type": "markdown",
   "id": "494c4a45-8f7e-4d54-9c62-435c00148f75",
   "metadata": {},
   "source": [
    "10. How do the break and continue statements work within a while loop?"
   ]
  },
  {
   "cell_type": "code",
   "execution_count": 1,
   "id": "eb084244-e7e7-4c17-8c09-c6a727cc64f6",
   "metadata": {},
   "outputs": [
    {
     "name": "stdout",
     "output_type": "stream",
     "text": [
      "The number is 15\n",
      "The number is 14\n",
      "The number is 13\n",
      "The number is 12\n",
      "The number is 11\n"
     ]
    }
   ],
   "source": [
    "# break statement in while loop\n",
    "i = 15\n",
    "while i >= 0:\n",
    "    print(f\"The number is {i}\")\n",
    "    i -= 1\n",
    "    if i == 10:\n",
    "        break"
   ]
  },
  {
   "cell_type": "code",
   "execution_count": 1,
   "id": "d9f57f14-e16a-458e-83ae-fcea02a27228",
   "metadata": {},
   "outputs": [
    {
     "name": "stdout",
     "output_type": "stream",
     "text": [
      "10\n",
      "9\n",
      "8\n",
      "7\n",
      "6\n",
      "5\n",
      "4\n",
      "3\n",
      "2\n",
      "1\n",
      "0\n"
     ]
    }
   ],
   "source": [
    "# continue statement in while loop\n",
    "num = 10\n",
    "while num >= 0:\n",
    "    print(num)\n",
    "    num -= 1\n",
    "    if num == 5:\n",
    "        continue\n",
    "        print(\"Numbers are:\")"
   ]
  },
  {
   "cell_type": "markdown",
   "id": "289b344d-f041-47ee-8c30-b8971219c3ab",
   "metadata": {},
   "source": [
    "## Day 3"
   ]
  },
  {
   "cell_type": "markdown",
   "id": "0eaf13be-6504-4f1e-8523-adb3fdf29a8d",
   "metadata": {},
   "source": [
    "Question.1: Write a program that takes a sentence as input. Capitalize the first letter of the sentence and print the modified sentence."
   ]
  },
  {
   "cell_type": "code",
   "execution_count": 7,
   "id": "b7d06182-fc93-4c47-a50d-879ba792d278",
   "metadata": {},
   "outputs": [
    {
     "name": "stdin",
     "output_type": "stream",
     "text": [
      "  TeLL mE YouR NamE?\n"
     ]
    },
    {
     "name": "stdout",
     "output_type": "stream",
     "text": [
      "Tell me your name?\n"
     ]
    }
   ],
   "source": [
    "line = input(\" \")\n",
    "print(line.capitalize())"
   ]
  },
  {
   "cell_type": "markdown",
   "id": "11c28a9c-4206-43dc-8b11-e087d5961901",
   "metadata": {},
   "source": [
    "Question.2: Write a program that takes a string as input. Convert the entire string to lowercase and print it."
   ]
  },
  {
   "cell_type": "code",
   "execution_count": 8,
   "id": "d4ce9f40-1e48-42f9-9158-c2d54ef4d8ba",
   "metadata": {},
   "outputs": [
    {
     "name": "stdout",
     "output_type": "stream",
     "text": [
      "hi how are you?\n"
     ]
    }
   ],
   "source": [
    "line = \"HI hoW ARe yoU?\"\n",
    "print(line.lower())"
   ]
  },
  {
   "cell_type": "markdown",
   "id": "6f96cb06-446d-434c-afac-98e94817fd91",
   "metadata": {},
   "source": [
    "Question.3: Write a program that takes a string as input. Convert the entire string to uppercase and print it"
   ]
  },
  {
   "cell_type": "code",
   "execution_count": 11,
   "id": "939a9844-c68a-406d-8aa9-c6289e35c519",
   "metadata": {},
   "outputs": [
    {
     "name": "stdout",
     "output_type": "stream",
     "text": [
      "I AM 2024 PASSOUT STUDENT\n"
     ]
    }
   ],
   "source": [
    "line = \"I am 2024 PasSoUT StuDenT\"\n",
    "print(line.upper())"
   ]
  },
  {
   "cell_type": "markdown",
   "id": "81e08842-3eb8-4c86-918c-993aa1fee21a",
   "metadata": {},
   "source": [
    "Question.4: Write a program that takes a sentence as input. Convert the sentence to title case (where the first letter of each word is capitalized) and print it"
   ]
  },
  {
   "cell_type": "code",
   "execution_count": 12,
   "id": "4670f6a5-78c6-4b32-bb35-0601625351f6",
   "metadata": {},
   "outputs": [
    {
     "name": "stdout",
     "output_type": "stream",
     "text": [
      "I Got Certified As Data Analyst From Besant Technology\n"
     ]
    }
   ],
   "source": [
    "line = \"i gOT cerTified aS data aNalyst from Besant TEchnology\"\n",
    "print(line.title())"
   ]
  },
  {
   "cell_type": "markdown",
   "id": "043cc726-91fd-4829-8860-47f5d0e4522c",
   "metadata": {},
   "source": [
    "Question.4: Write a program that takes a string with leading spaces as input. Remove the leading spaces and print the stripped string."
   ]
  },
  {
   "cell_type": "code",
   "execution_count": 15,
   "id": "764db268-479d-4cc0-91a0-f37d229bb90b",
   "metadata": {},
   "outputs": [
    {
     "name": "stdout",
     "output_type": "stream",
     "text": [
      "Before removing spaces:            hi \n",
      "After removing spaces: hi \n"
     ]
    }
   ],
   "source": [
    "line  = \"           hi \"\n",
    "line1 = line.lstrip()\n",
    "print(\"Before removing spaces:\",line)\n",
    "print(\"After removing spaces:\",line1)"
   ]
  },
  {
   "cell_type": "markdown",
   "id": "d9812b89-b7a8-4c47-bd0e-3d885fa21045",
   "metadata": {},
   "source": [
    "Question.5: Write a program that takes a string with trailing spaces as input. Remove the trailing spaces and print the stripped string"
   ]
  },
  {
   "cell_type": "code",
   "execution_count": 19,
   "id": "58c1da0b-0831-4bf6-bae6-b641cf8b13ab",
   "metadata": {},
   "outputs": [
    {
     "name": "stdout",
     "output_type": "stream",
     "text": [
      " hi\n",
      "Before 23\n",
      "After 3\n"
     ]
    }
   ],
   "source": [
    "line = \" hi                    \"\n",
    "line1 = line.rstrip()\n",
    "print(line1)\n",
    "print(\"Before\",len(line))\n",
    "print(\"After\",len(line1))"
   ]
  },
  {
   "cell_type": "markdown",
   "id": "64ba260b-3e54-4b68-929b-830503268d51",
   "metadata": {},
   "source": [
    "Question.6: Write a program that takes a string with leading and trailing spaces as input. Remove both leading and trailing spaces and print the stripped string."
   ]
  },
  {
   "cell_type": "code",
   "execution_count": 20,
   "id": "d7486980-d9d5-46bb-a9c4-dc42798c45f5",
   "metadata": {},
   "outputs": [
    {
     "name": "stdout",
     "output_type": "stream",
     "text": [
      "hi\n",
      "Before 15\n",
      "After 2\n"
     ]
    }
   ],
   "source": [
    "line = \"       hi      \"\n",
    "line1 = line.strip()\n",
    "print(line1)\n",
    "print(\"Before\",len(line))\n",
    "print(\"After\",len(line1))"
   ]
  },
  {
   "cell_type": "markdown",
   "id": "cf42ebec-65f3-4cd8-bbc6-910911b97a10",
   "metadata": {},
   "source": [
    "Question.7: Write a program that takes a sentence and two words (old and new) as input. Replace all occurrences of the old word with the new word in the sentence and print the result."
   ]
  },
  {
   "cell_type": "code",
   "execution_count": 26,
   "id": "780dc9f4-7248-4e4a-8805-71aa43990b7f",
   "metadata": {},
   "outputs": [
    {
     "name": "stdout",
     "output_type": "stream",
     "text": [
      "I am working as Data analyst is xyz organization.As a Data analyst my work is to analyse the raw Data and convert it into meaningfull insights\n"
     ]
    }
   ],
   "source": [
    "line = \"I am working as data analyst is xyz organization.As a data analyst my work is to analyse the raw data and convert it into meaningfull insights\"\n",
    "line1 = line.replace(\"data\",\"Data\")\n",
    "print(line1)"
   ]
  },
  {
   "cell_type": "markdown",
   "id": "5057894b-8183-4fa7-a7f1-c03d017fb109",
   "metadata": {},
   "source": [
    "Question.8: Write a program that takes a string and a character as input. Count the number of times the character appears in the string (case-insensitive) using a loop and conditional statements (or directly with count() after converting the string to a single case)"
   ]
  },
  {
   "cell_type": "code",
   "execution_count": 28,
   "id": "d9658829-f330-4821-ba35-128ca5e6472e",
   "metadata": {},
   "outputs": [
    {
     "name": "stdout",
     "output_type": "stream",
     "text": [
      "Number of time data is arrived in line is: 3\n"
     ]
    }
   ],
   "source": [
    "line = \"I am working as data analyst is xyz organization.As a data analyst my work is to analyse the raw data and convert it into meaningfull insights\"\n",
    "line1 = line.count(\"data\")\n",
    "print(\"Number of time data is arrived in line is:\",line1)"
   ]
  },
  {
   "cell_type": "markdown",
   "id": "18310674-aa3c-4531-bf32-5d599e18849e",
   "metadata": {},
   "source": [
    "Question.9: Write a program that takes a string and a substring as input. Find the index of the first occurrence of the substring. If the substring is not found, print a message indicating that."
   ]
  },
  {
   "cell_type": "code",
   "execution_count": 34,
   "id": "a6492ceb-782e-4eff-bd35-6d1b601f56f8",
   "metadata": {},
   "outputs": [
    {
     "name": "stdout",
     "output_type": "stream",
     "text": [
      "16\n"
     ]
    }
   ],
   "source": [
    "line = \"I am working as data analyst is xyz organization.As a data analyst my work is to analyse the raw data and convert it into meaningfull insights\"\n",
    "line1 = line.index(\"data\")\n",
    "print(line1)"
   ]
  },
  {
   "cell_type": "markdown",
   "id": "f186aa45-d94e-48ed-8c99-93e3bdfb23f0",
   "metadata": {},
   "source": [
    "Question.10: Write a program that takes a string and a substring as input. Find all occurrences of the substring in the string using a while loop and the find() method. Print the starting index of each occurrence."
   ]
  },
  {
   "cell_type": "code",
   "execution_count": 3,
   "id": "fafd95a8-e7fc-4135-8975-088844fd4648",
   "metadata": {},
   "outputs": [
    {
     "name": "stdout",
     "output_type": "stream",
     "text": [
      "2\n"
     ]
    }
   ],
   "source": [
    "line = \"Python\"\n",
    "print(line.find(\"t\"))"
   ]
  },
  {
   "cell_type": "code",
   "execution_count": null,
   "id": "59ef6f07-3446-4dba-9c91-e2f7a9cb45fa",
   "metadata": {},
   "outputs": [],
   "source": [
    "num = 5\n",
    "while num > 0:\n",
    "    print(f\"next number is:{num}\")\n",
    "    num -= 1"
   ]
  },
  {
   "cell_type": "markdown",
   "id": "ecc95ec9-de21-42d4-aa9c-1484ab64a91c",
   "metadata": {},
   "source": [
    "Question.11: Write a program that takes a comma-separated string of items as input. Split the string into a list of individual items and print each item."
   ]
  },
  {
   "cell_type": "code",
   "execution_count": 7,
   "id": "e69a8933-5c7c-411c-ae80-58ea6d11fc1e",
   "metadata": {},
   "outputs": [
    {
     "name": "stdout",
     "output_type": "stream",
     "text": [
      "['My ', ' name ', ' is ', 'Ram And I ', 'am a content ', ' creator']\n"
     ]
    }
   ],
   "source": [
    "line = \"My , name , is ,Ram And I ,am a content , creator\"\n",
    "print(line.split(\",\"))"
   ]
  },
  {
   "cell_type": "markdown",
   "id": "8e273a3e-4cdc-452a-8b9e-15f123efd52d",
   "metadata": {},
   "source": [
    "Question.12: Write a program that takes a filename as input. Check if the filename ends with \".txt\". If it does, print \"This is a text file.\"; otherwise, print \"This is not necessarily a text file.\""
   ]
  },
  {
   "cell_type": "code",
   "execution_count": 16,
   "id": "7ba60c87-ebe7-4bcc-b15a-4ecafc82b342",
   "metadata": {},
   "outputs": [
    {
     "name": "stdout",
     "output_type": "stream",
     "text": [
      "True\n",
      "False\n"
     ]
    }
   ],
   "source": [
    "file = r\"C:\\Users\\2001a\\Desktop\\power bi work\"\n",
    "print(file.endswith(\"work\"))\n",
    "print(file.endswith(\".txt\"))"
   ]
  },
  {
   "cell_type": "markdown",
   "id": "09d46a62-9c19-4367-8ca8-1209e6fcd708",
   "metadata": {},
   "source": [
    "Questions.13: Write a program that takes a line of text as input. Check if the line starts with \"Subject: \". If it does, print \"This line is likely an email subject.\"; otherwise, print \"This line does not appear to be an email subject.\""
   ]
  },
  {
   "cell_type": "code",
   "execution_count": 21,
   "id": "6471321d-1a22-4791-aedb-66919a7df4bf",
   "metadata": {},
   "outputs": [
    {
     "name": "stdout",
     "output_type": "stream",
     "text": [
      "This line is likely an email subject\n"
     ]
    }
   ],
   "source": [
    "line = \"subject to learn for data analyst\"\n",
    "if line.startswith(\"subject\"):\n",
    "    print(\"This line is likely an email subject\")\n",
    "else:\n",
    "    print(\"This line does not appear to be an email subject\")"
   ]
  },
  {
   "cell_type": "markdown",
   "id": "aae20d71-41b9-49fb-a0b5-d19e57d60351",
   "metadata": {},
   "source": [
    "Question.14: Write a program that takes a string as input and checks if all characters in the string are alphanumeric. Print \"Alphanumeric string\" or \"Not an alphanumeric string.\""
   ]
  },
  {
   "cell_type": "code",
   "execution_count": 24,
   "id": "1932bab0-f3fa-458f-ad62-03da01363e74",
   "metadata": {},
   "outputs": [
    {
     "name": "stdout",
     "output_type": "stream",
     "text": [
      "Alphanumeric string\n"
     ]
    }
   ],
   "source": [
    "line = \"ABC123\"\n",
    "if line.isalnum():\n",
    "    print(\"Alphanumeric string\")\n",
    "else:\n",
    "    print(\"Not an alphanumeric string\")"
   ]
  },
  {
   "cell_type": "markdown",
   "id": "a9fb6f1c-2df4-435b-945d-4719d30c07de",
   "metadata": {},
   "source": [
    "Question.15: Write a program that takes a string as input and checks if all characters in the string are alphabetic. Print \"Alphabetic string\" or \"Not an alphabetic string.\""
   ]
  },
  {
   "cell_type": "code",
   "execution_count": 25,
   "id": "3be7abd5-d75e-4002-ad3d-b1a5420b28b9",
   "metadata": {},
   "outputs": [
    {
     "name": "stdout",
     "output_type": "stream",
     "text": [
      "Not an alphabetic string\n"
     ]
    }
   ],
   "source": [
    "line = \"12asnh\"\n",
    "if line.isalpha():\n",
    "    print(\"Alphabetic string\")\n",
    "else:\n",
    "    print(\"Not an alphabetic string\")"
   ]
  },
  {
   "cell_type": "markdown",
   "id": "ad09f592-4818-408d-8bc9-b239e9c4b1f5",
   "metadata": {},
   "source": [
    "Question.16: Write a program that takes a string as input and checks if all characters in the string are decimal digits. Print \"Decimal string\" or \"Not a decimal string.\""
   ]
  },
  {
   "cell_type": "code",
   "execution_count": 28,
   "id": "2413d7d0-ffe9-42fc-80d2-c8939cc63c70",
   "metadata": {},
   "outputs": [
    {
     "name": "stdout",
     "output_type": "stream",
     "text": [
      "Decimal string\n"
     ]
    }
   ],
   "source": [
    "line = \"1255\"\n",
    "if line.isdecimal():\n",
    "    print(\"Decimal string\")\n",
    "else:\n",
    "    print(\"Not a decimal string\")"
   ]
  },
  {
   "cell_type": "markdown",
   "id": "0688cc99-e035-48eb-b40c-c60cff1d7fc8",
   "metadata": {},
   "source": [
    "Question.17: Write a program that takes a string as input and checks if all characters in the string are digits. Print \"Digit string\" or \"Not a digit string.\""
   ]
  },
  {
   "cell_type": "code",
   "execution_count": 30,
   "id": "853833f0-d3a9-43df-80cb-d9974c09d266",
   "metadata": {},
   "outputs": [
    {
     "name": "stdout",
     "output_type": "stream",
     "text": [
      "Digit string\n"
     ]
    }
   ],
   "source": [
    "line = \"1233\"\n",
    "if line.isdigit():\n",
    "    print(\"Digit string\")\n",
    "else:\n",
    "    print(\"Not a digit string\")"
   ]
  },
  {
   "cell_type": "markdown",
   "id": "8b8a6a93-cb70-4d03-b028-1d9324dc19ad",
   "metadata": {},
   "source": [
    "Question.18: Write a program that takes a string as input and checks if all characters in the string are numeric characters. Print \"Numeric string\" or \"Not a numeric string"
   ]
  },
  {
   "cell_type": "code",
   "execution_count": 31,
   "id": "2c8e166a-4a3f-47f6-a566-1fe6dad06a3e",
   "metadata": {},
   "outputs": [
    {
     "name": "stdout",
     "output_type": "stream",
     "text": [
      "Numeric string\n"
     ]
    }
   ],
   "source": [
    "line = \"125486451\"\n",
    "if line.isnumeric():\n",
    "    print(\"Numeric string\")\n",
    "else:\n",
    "    print(\"Not a numeric string\")"
   ]
  },
  {
   "cell_type": "markdown",
   "id": "732be9ca-7ffd-4297-9544-b492d20e28f3",
   "metadata": {},
   "source": [
    "Question.19: Write a program that takes a string as input. Check if all cased characters in the string are lowercase. If they are, print \"All lowercase\"; otherwise, print \"Not all lowercase.\""
   ]
  },
  {
   "cell_type": "code",
   "execution_count": 32,
   "id": "f47bc304-98e8-46bf-95a8-801086c89491",
   "metadata": {},
   "outputs": [
    {
     "name": "stdout",
     "output_type": "stream",
     "text": [
      "All lowercase\n"
     ]
    }
   ],
   "source": [
    "line = \"i am coming to home\"\n",
    "if line.islower():\n",
    "    print(\"All lowercase\")\n",
    "else:\n",
    "    print(\"Not all lowercase\")"
   ]
  },
  {
   "cell_type": "markdown",
   "id": "d262064c-db64-455a-b57a-337bb291294a",
   "metadata": {},
   "source": [
    "Question.20: Write a program that takes a string as input. Check if all cased characters in the string are uppercase. If they are, print \"All uppercase\"; otherwise, print \"Not all uppercase.\""
   ]
  },
  {
   "cell_type": "code",
   "execution_count": 34,
   "id": "9f19e39f-a8dc-4e0b-979c-e5451cf308b0",
   "metadata": {},
   "outputs": [
    {
     "name": "stdout",
     "output_type": "stream",
     "text": [
      "All uppercase\n"
     ]
    }
   ],
   "source": [
    "line = \"I AM COMING TO HOME\"\n",
    "if line.isupper():\n",
    "    print(\"All uppercase\")\n",
    "else:\n",
    "    print(\"Not all uppercase\")"
   ]
  },
  {
   "cell_type": "markdown",
   "id": "49fe54a1-3546-4231-892d-a290450781b3",
   "metadata": {},
   "source": [
    "Question.21: Write a program that takes a string as input. Check if the string is in title case. If it is, print \"Title case string\"; otherwise, print \"Not a title case string.\""
   ]
  },
  {
   "cell_type": "code",
   "execution_count": 35,
   "id": "b45f1de8-9d17-4645-8cb6-e86be825be03",
   "metadata": {},
   "outputs": [
    {
     "name": "stdout",
     "output_type": "stream",
     "text": [
      "Title case string\n"
     ]
    }
   ],
   "source": [
    "line = \"I Am Coming To Home\"\n",
    "if line.istitle():\n",
    "    print(\"Title case string\")\n",
    "else:\n",
    "    print(\"Not a title string\")"
   ]
  },
  {
   "cell_type": "markdown",
   "id": "0a10e519-5db6-4fb1-9465-54343a5250c2",
   "metadata": {},
   "source": [
    "Question.22: Write a program that takes a string as input. Check if all characters in the string are whitespace characters. If they are, print \"Whitespace string\"; otherwise, print \"Not a whitespace string.\""
   ]
  },
  {
   "cell_type": "code",
   "execution_count": 36,
   "id": "bb20eb0e-c81e-43cc-b794-ea1a44277ce5",
   "metadata": {},
   "outputs": [
    {
     "name": "stdout",
     "output_type": "stream",
     "text": [
      "Whitespace string\n"
     ]
    }
   ],
   "source": [
    "line = \"   \"\n",
    "if line.isspace():\n",
    "    print(\"Whitespace string\")\n",
    "else:\n",
    "    print(\"Not a whitespace string\")"
   ]
  },
  {
   "cell_type": "markdown",
   "id": "4552a892-23bd-4b85-98b5-d9be28fe36ee",
   "metadata": {},
   "source": [
    "Question.23: Write a program that takes a number (as a string) and a desired width as input. Pad the beginning of the number with leading zeros so that it reaches the specified width. Print the zero-filled string"
   ]
  },
  {
   "cell_type": "code",
   "execution_count": 37,
   "id": "72b4a89a-323d-4228-8a7a-cf63102ef7ab",
   "metadata": {},
   "outputs": [
    {
     "name": "stdout",
     "output_type": "stream",
     "text": [
      "000000123\n"
     ]
    }
   ],
   "source": [
    "line = \"123\"\n",
    "print(line.zfill(9))"
   ]
  },
  {
   "cell_type": "markdown",
   "id": "8eb6656b-283d-44da-8953-060afa70af68",
   "metadata": {},
   "source": [
    "Question.24: Write a program that takes a string and a width as input. Center the string within the specified width, using '*' as the fill character, and print the result"
   ]
  },
  {
   "cell_type": "code",
   "execution_count": 40,
   "id": "905f0219-1659-429c-956e-f8af7492a778",
   "metadata": {},
   "outputs": [
    {
     "name": "stdout",
     "output_type": "stream",
     "text": [
      "*****HELLO*****\n"
     ]
    }
   ],
   "source": [
    "line = \"HELLO\"\n",
    "print(line.center(15,\"*\"))"
   ]
  },
  {
   "cell_type": "markdown",
   "id": "00bf25ad-a952-4619-9086-8442259b64f9",
   "metadata": {},
   "source": [
    "Question.25: Write a program that takes two strings as input. Convert both strings to their casefolded forms and then check if they are equal. Print \"Case-insensitive match\" or \"No case-insensitive match.\""
   ]
  },
  {
   "cell_type": "code",
   "execution_count": null,
   "id": "eb16ec7d-f2d1-4d5f-808d-f29ad6f670da",
   "metadata": {},
   "outputs": [],
   "source": []
  },
  {
   "cell_type": "code",
   "execution_count": null,
   "id": "9532e8fc-97fd-4fc0-a373-62e4c023b932",
   "metadata": {},
   "outputs": [],
   "source": []
  },
  {
   "cell_type": "code",
   "execution_count": null,
   "id": "cb165401-0a72-449e-8712-abc26938657a",
   "metadata": {},
   "outputs": [],
   "source": []
  },
  {
   "cell_type": "code",
   "execution_count": null,
   "id": "cc38583d-cb65-411d-b98e-6dbc706ccf9a",
   "metadata": {},
   "outputs": [],
   "source": []
  },
  {
   "cell_type": "code",
   "execution_count": null,
   "id": "df7d675f-d77e-49f9-89fd-f93b2e205324",
   "metadata": {},
   "outputs": [],
   "source": []
  },
  {
   "cell_type": "code",
   "execution_count": null,
   "id": "7234d7b7-a43f-4c59-92c4-680a00102a97",
   "metadata": {},
   "outputs": [],
   "source": []
  },
  {
   "cell_type": "code",
   "execution_count": null,
   "id": "0de9d9e4-ff89-47b8-8499-3456aa643d0c",
   "metadata": {},
   "outputs": [],
   "source": []
  },
  {
   "cell_type": "code",
   "execution_count": null,
   "id": "fda4024c-4f0c-4890-a4f0-0f6969eff82b",
   "metadata": {},
   "outputs": [],
   "source": []
  },
  {
   "cell_type": "code",
   "execution_count": null,
   "id": "a20e701e-7c2c-4ffc-9663-a5bab5c46d11",
   "metadata": {},
   "outputs": [],
   "source": []
  },
  {
   "cell_type": "code",
   "execution_count": null,
   "id": "05a53924-8806-4fb8-abfc-191b124c8880",
   "metadata": {},
   "outputs": [],
   "source": []
  },
  {
   "cell_type": "code",
   "execution_count": null,
   "id": "71e5f10d-a5ac-43ce-99d1-7d624a7727d3",
   "metadata": {},
   "outputs": [],
   "source": []
  }
 ],
 "metadata": {
  "kernelspec": {
   "display_name": "Python 3 (ipykernel)",
   "language": "python",
   "name": "python3"
  },
  "language_info": {
   "codemirror_mode": {
    "name": "ipython",
    "version": 3
   },
   "file_extension": ".py",
   "mimetype": "text/x-python",
   "name": "python",
   "nbconvert_exporter": "python",
   "pygments_lexer": "ipython3",
   "version": "3.13.5"
  }
 },
 "nbformat": 4,
 "nbformat_minor": 5
}
