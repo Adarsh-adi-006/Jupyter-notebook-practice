{
 "cells": [
  {
   "cell_type": "markdown",
   "id": "176a15b3-204e-4fa0-abe5-3f0e97808ce9",
   "metadata": {},
   "source": [
    "Day 1"
   ]
  },
  {
   "cell_type": "code",
   "execution_count": 3,
   "id": "d7705a47-6559-4c74-b19a-8ddd7c8dd815",
   "metadata": {},
   "outputs": [
    {
     "name": "stdout",
     "output_type": "stream",
     "text": [
      "10\n"
     ]
    }
   ],
   "source": [
    "# 1.Assign the value 10 to a variable named 'number'\n",
    "number = 10\n",
    "# 3.Print the values of the above variables (Que.1, 2)\n",
    "print(number)"
   ]
  },
  {
   "cell_type": "code",
   "execution_count": 4,
   "id": "5ee2c13c-1ace-4add-8e74-13a55ee4c34a",
   "metadata": {},
   "outputs": [
    {
     "name": "stdout",
     "output_type": "stream",
     "text": [
      "Hello\n"
     ]
    }
   ],
   "source": [
    "# 2.Assign the string \"Hello\" to a variable named 'greeting'\n",
    "greeting = \"Hello\"\n",
    "# 3.Print the values of the above variables (Que.1, 2)\n",
    "print(greeting)"
   ]
  },
  {
   "cell_type": "code",
   "execution_count": 8,
   "id": "18830c22-2f9d-449a-bb58-2af27424a24e",
   "metadata": {},
   "outputs": [
    {
     "name": "stdout",
     "output_type": "stream",
     "text": [
      "<class 'int'>\n",
      "<class 'str'>\n"
     ]
    }
   ],
   "source": [
    "# 4.print data type of above variables (Que.1, 2)\n",
    "print(type(number))\n",
    "print(type(greeting))"
   ]
  },
  {
   "cell_type": "markdown",
   "id": "8500b915-077e-42b5-b4c9-e745f558b508",
   "metadata": {},
   "source": [
    "Day2"
   ]
  },
  {
   "cell_type": "code",
   "execution_count": 11,
   "id": "0572d0d5-aaf3-42cf-85fa-be30ed0e228a",
   "metadata": {},
   "outputs": [
    {
     "name": "stdout",
     "output_type": "stream",
     "text": [
      "a= 54.5 <class 'float'>\n",
      "b= 54 <class 'int'>\n"
     ]
    }
   ],
   "source": [
    "# 1.What is type casting? Give an example.\n",
    "      ## Type casting is the method where we can change the data type of an variable\n",
    "        ##EX-\n",
    "a = 54.5\n",
    "b = int(a)\n",
    "print(\"a=\",a,type(a))\n",
    "print(\"b=\",b,type(b))"
   ]
  },
  {
   "cell_type": "code",
   "execution_count": 14,
   "id": "a293d0ca-19c1-42ee-bc98-61ce834c15bd",
   "metadata": {},
   "outputs": [
    {
     "data": {
      "text/plain": [
       "float"
      ]
     },
     "execution_count": 14,
     "metadata": {},
     "output_type": "execute_result"
    }
   ],
   "source": [
    "#2.Convert the following:\n",
    "#a. \"123\" to integer.\n",
    "a = \"123\"\n",
    "b = int(a)\n",
    "type(b)\n",
    "#b. 25 to string.\n",
    "c = 25\n",
    "d = str(c)\n",
    "type(d)\n",
    "#c. \"3.14\" to float.\n",
    "x = \"3.14\"\n",
    "y = float(x)\n",
    "type(y)"
   ]
  },
  {
   "cell_type": "code",
   "execution_count": 21,
   "id": "5de71dbd-1c6b-4498-80e5-42a49dabf418",
   "metadata": {},
   "outputs": [
    {
     "ename": "ValueError",
     "evalue": "invalid literal for int() with base 10: 'abc'",
     "output_type": "error",
     "traceback": [
      "\u001b[1;31m---------------------------------------------------------------------------\u001b[0m",
      "\u001b[1;31mValueError\u001b[0m                                Traceback (most recent call last)",
      "Cell \u001b[1;32mIn[21], line 2\u001b[0m\n\u001b[0;32m      1\u001b[0m \u001b[38;5;66;03m#3.What error occurs if you try int(\"abc\")? Why? correct it\u001b[39;00m\n\u001b[1;32m----> 2\u001b[0m a \u001b[38;5;241m=\u001b[39m \u001b[38;5;28mint\u001b[39m(\u001b[38;5;124m\"\u001b[39m\u001b[38;5;124mabc\u001b[39m\u001b[38;5;124m\"\u001b[39m)\n\u001b[0;32m      3\u001b[0m \u001b[38;5;28mprint\u001b[39m(a)\n",
      "\u001b[1;31mValueError\u001b[0m: invalid literal for int() with base 10: 'abc'"
     ]
    }
   ],
   "source": [
    "#3.What error occurs if you try int(\"abc\")? Why? correct it\n",
    "a = int(\"abc\")\n",
    "print(a)"
   ]
  },
  {
   "cell_type": "code",
   "execution_count": 23,
   "id": "a8bd4b1e-3766-48a2-9e09-aeb5548e3562",
   "metadata": {},
   "outputs": [
    {
     "name": "stdout",
     "output_type": "stream",
     "text": [
      "abc\n"
     ]
    }
   ],
   "source": [
    "# we define variable \"a\" as int in that we wrote string which is in quote so it is invalid\n",
    "# so we can write it as \n",
    "a = str(\"abc\")\n",
    "print(a)"
   ]
  },
  {
   "cell_type": "code",
   "execution_count": 26,
   "id": "3f3be73e-b0e0-4fd0-adce-0657ad847e34",
   "metadata": {},
   "outputs": [
    {
     "name": "stdout",
     "output_type": "stream",
     "text": [
      "This is the milti-line string in python\n",
      "Where we use triple quote\n"
     ]
    }
   ],
   "source": [
    "# 4.How do you create a multi-line string in Python?\n",
    "print('''This is the milti-line string in python\n",
    "Where we use triple quote''')"
   ]
  },
  {
   "cell_type": "code",
   "execution_count": 28,
   "id": "a7d72210-fb7d-454e-93ae-cd7cb64e1138",
   "metadata": {},
   "outputs": [
    {
     "name": "stdout",
     "output_type": "stream",
     "text": [
      "This is \"PYTHON\" class\n"
     ]
    }
   ],
   "source": [
    "# 5.How do you include a quote inside a string?\n",
    "## by using backslash(\\)\n",
    "print(\"This is \\\"PYTHON\\\" class\")"
   ]
  },
  {
   "cell_type": "code",
   "execution_count": 33,
   "id": "ebc0bd80-3135-4af0-a645-6d22ed53ee07",
   "metadata": {},
   "outputs": [
    {
     "name": "stdout",
     "output_type": "stream",
     "text": [
      "99.99\n"
     ]
    }
   ],
   "source": [
    "# 6.Convert price = \"99.99\" to a float\n",
    "price = \"99.99\"\n",
    "print(float(price))"
   ]
  },
  {
   "cell_type": "code",
   "execution_count": 34,
   "id": "0051a90f-767e-45d7-abef-2324de811600",
   "metadata": {},
   "outputs": [
    {
     "name": "stdout",
     "output_type": "stream",
     "text": [
      "I'm learning \"Python\"\n"
     ]
    }
   ],
   "source": [
    "# 7.Create a string: I'm learning \"Python\"\n",
    "print(\"I\\'m learning \\\"Python\\\"\")"
   ]
  },
  {
   "cell_type": "code",
   "execution_count": null,
   "id": "c7b9eaa1-3b90-4b7b-9f5e-c1daeb08da0e",
   "metadata": {},
   "outputs": [],
   "source": [
    "# 8.what is raw string? what is its use?\n",
    ">> It is used to give the file path\n",
    "    >>path = r\"file path\""
   ]
  },
  {
   "cell_type": "code",
   "execution_count": null,
   "id": "2d1dd48a-30ee-4ec8-81b9-9dbf35a188c4",
   "metadata": {},
   "outputs": [],
   "source": []
  },
  {
   "cell_type": "markdown",
   "id": "2df9e920-55de-411a-b2b3-c12947665ba9",
   "metadata": {},
   "source": [
    "Day 3"
   ]
  },
  {
   "cell_type": "code",
   "execution_count": 6,
   "id": "6b5be90a-1c32-4bfa-a1a4-4b416fd7159c",
   "metadata": {},
   "outputs": [
    {
     "name": "stdout",
     "output_type": "stream",
     "text": [
      "lenght of the string Hello world is:11\n"
     ]
    }
   ],
   "source": [
    "# 1.Question: Write a Python program that takes a string as input and prints its length\n",
    "string = \"Hello world\"\n",
    "lenght = len(string)\n",
    "print(f\"lenght of the string {string} is:{lenght}\")"
   ]
  },
  {
   "cell_type": "code",
   "execution_count": null,
   "id": "976eb6af-fff9-4b33-b7d1-2e884a2b166d",
   "metadata": {},
   "outputs": [],
   "source": [
    "#2.Question: Given the string data = \"abcdefghijklmnop\", write Python code to:\n",
    "string_data = \"abcdefghijklmnop\"\n",
    "A. Get the first 5 characters.\n",
    "B. Get the last 3 characters.\n",
    "C. Get characters from index 2 to 7 (inclusive of 2, exclusive of 8).\n",
    "D. Get every second character.\n",
    "E. Reverse the string"
   ]
  },
  {
   "cell_type": "code",
   "execution_count": 9,
   "id": "615ddcba-1ea2-4d76-8857-120c7a1640fd",
   "metadata": {},
   "outputs": [
    {
     "data": {
      "text/plain": [
       "'abcde'"
      ]
     },
     "execution_count": 9,
     "metadata": {},
     "output_type": "execute_result"
    }
   ],
   "source": [
    "# A. Get the first 5 characters.\n",
    "string_data = \"abcdefghijklmnop\"\n",
    "string_data[0 : 5]"
   ]
  },
  {
   "cell_type": "code",
   "execution_count": 16,
   "id": "4a6443f9-19f6-4d37-81df-1260d9493e9b",
   "metadata": {},
   "outputs": [
    {
     "data": {
      "text/plain": [
       "'nop'"
      ]
     },
     "execution_count": 16,
     "metadata": {},
     "output_type": "execute_result"
    }
   ],
   "source": [
    "# B. Get the last 3 characters.\n",
    "string_data = \"abcdefghijklmnop\"\n",
    "string_data[-3 : ]"
   ]
  },
  {
   "cell_type": "code",
   "execution_count": 20,
   "id": "81ca1126-3d7f-4f50-a311-f0c73c0e34bc",
   "metadata": {},
   "outputs": [
    {
     "name": "stdout",
     "output_type": "stream",
     "text": [
      "0 a\n",
      "1 b\n",
      "2 c\n",
      "3 d\n",
      "4 e\n",
      "5 f\n",
      "6 g\n",
      "7 h\n",
      "8 i\n",
      "9 j\n",
      "10 k\n",
      "11 l\n",
      "12 m\n",
      "13 n\n",
      "14 o\n",
      "15 p\n"
     ]
    }
   ],
   "source": [
    "# C. Get characters from index 2 to 7 (inclusive of 2, exclusive of 8).\n",
    "string_data = \"abcdefghijklmnop\"\n",
    "for index,char in enumerate(string_data):\n",
    "    print(index,char)"
   ]
  },
  {
   "cell_type": "code",
   "execution_count": 21,
   "id": "86c3ed8c-058f-4738-ac38-a580910cf838",
   "metadata": {},
   "outputs": [
    {
     "name": "stdout",
     "output_type": "stream",
     "text": [
      "cdefg\n"
     ]
    }
   ],
   "source": [
    "print(string_data[2:7])"
   ]
  },
  {
   "cell_type": "code",
   "execution_count": 22,
   "id": "acf9931f-39f6-473c-bb2b-5d1c1aa936ae",
   "metadata": {},
   "outputs": [
    {
     "data": {
      "text/plain": [
       "'acegikmo'"
      ]
     },
     "execution_count": 22,
     "metadata": {},
     "output_type": "execute_result"
    }
   ],
   "source": [
    "# D. Get every second character.\n",
    "string_data = \"abcdefghijklmnop\"\n",
    "string_data[0:15:2]"
   ]
  },
  {
   "cell_type": "code",
   "execution_count": 23,
   "id": "f8a4128f-cbf7-428d-9caa-5b0405c1471c",
   "metadata": {},
   "outputs": [
    {
     "data": {
      "text/plain": [
       "'ponmlkjihgfedcba'"
      ]
     },
     "execution_count": 23,
     "metadata": {},
     "output_type": "execute_result"
    }
   ],
   "source": [
    "# E. Reverse the string\n",
    "string_data = \"abcdefghijklmnop\"\n",
    "string_data[::-1]"
   ]
  },
  {
   "cell_type": "code",
   "execution_count": 24,
   "id": "0fb1cfb9-b81c-48e3-bf4e-3db6b7f7e382",
   "metadata": {},
   "outputs": [
    {
     "data": {
      "text/plain": [
       "'long'"
      ]
     },
     "execution_count": 24,
     "metadata": {},
     "output_type": "execute_result"
    }
   ],
   "source": [
    "# 3.Question: If you have a string sentence = \"This is a long sentence.\", how would you extract the word \"long\" using slicing?\n",
    "sentence = \"This is a long sentence.\"\n",
    "sentence[10:14]"
   ]
  },
  {
   "cell_type": "code",
   "execution_count": 25,
   "id": "8c5b7f53-158a-46f0-a2f9-9c7e658e2bb6",
   "metadata": {},
   "outputs": [
    {
     "name": "stdout",
     "output_type": "stream",
     "text": [
      "i\n",
      "n\n",
      "p\n",
      "u\n",
      "t\n"
     ]
    }
   ],
   "source": [
    "# 4.Question: Write a Python program that takes a string as input and prints each character of the string on a new line using a for loop.\n",
    "string = \"input\"\n",
    "for char in string:\n",
    "    print(char)"
   ]
  },
  {
   "cell_type": "code",
   "execution_count": 28,
   "id": "43c4049a-7530-4099-bccb-f30e57a74b64",
   "metadata": {},
   "outputs": [
    {
     "name": "stdout",
     "output_type": "stream",
     "text": [
      "1 i\n",
      "2 n\n",
      "3 p\n",
      "4 u\n",
      "5 t\n"
     ]
    }
   ],
   "source": [
    "# 5.Question: Modify the program in question 4 to also print the index of each character alongside the character\n",
    "string = \"input\"\n",
    "for index,char in enumerate(string,1):\n",
    "    print(index,char)"
   ]
  },
  {
   "cell_type": "code",
   "execution_count": 30,
   "id": "7d601c9d-bd58-41fd-8a1c-575ba1a16be6",
   "metadata": {},
   "outputs": [
    {
     "name": "stdout",
     "output_type": "stream",
     "text": [
      "The Laptop costs 60000\n"
     ]
    }
   ],
   "source": [
    "# 6.Question: You have the variables product = \"Laptop\" and price = 60,000. Use an f-string to print the following sentence: \"The Laptop costs 60,000.\"\n",
    "product =\"Laptop\"\n",
    "price = 60000\n",
    "print(f\"The {product} costs {price}\")"
   ]
  },
  {
   "cell_type": "code",
   "execution_count": 35,
   "id": "2d7e7a8b-2ad3-42dc-89b5-1596c6191e4d",
   "metadata": {},
   "outputs": [
    {
     "name": "stdout",
     "output_type": "stream",
     "text": [
      "vikas's score is 85\n",
      "vikas's score is 85\n"
     ]
    }
   ],
   "source": [
    "# 7.Question: Given the variables name = \"vikas\" and score = 85, use an f-string to print: \"vikas's score is 85.\"\n",
    "name = \"vikas\"\n",
    "score = 85\n",
    "print(f'{name}\\'s score is {score}')\n",
    "print(f\"{name}'s score is {score}\")"
   ]
  },
  {
   "cell_type": "code",
   "execution_count": 7,
   "id": "f3fe3421-fd40-4043-9e61-d8cc485a9a29",
   "metadata": {},
   "outputs": [
    {
     "name": "stdout",
     "output_type": "stream",
     "text": [
      "The Laptop costs 60000\n"
     ]
    }
   ],
   "source": [
    "# 8.Question: Using the .format() method, create the same output as in Question 6: \"The Laptop costs 60,000.\"\n",
    "product = \"Laptop\"\n",
    "price = 60000\n",
    "output = \"The {} costs {}\".format(product,price)\n",
    "print(output)"
   ]
  },
  {
   "cell_type": "code",
   "execution_count": 38,
   "id": "28ce7b46-af77-4c71-a3dd-dfaa37338b83",
   "metadata": {},
   "outputs": [
    {
     "name": "stdout",
     "output_type": "stream",
     "text": [
      "(1, 'i')\n",
      "(2, 'n')\n",
      "(3, 'p')\n",
      "(4, 'u')\n",
      "(5, 't')\n"
     ]
    }
   ],
   "source": [
    "# 9.Question: Write a Python program that takes a string as input and uses the enumerate() function to print each character along with its index.\n",
    "string = \"input\"\n",
    "for char in enumerate(string,1):\n",
    "    print(char)"
   ]
  },
  {
   "cell_type": "code",
   "execution_count": 4,
   "id": "4f724ee3-afcc-4ea5-a566-1cc50291ecd5",
   "metadata": {},
   "outputs": [
    {
     "name": "stdout",
     "output_type": "stream",
     "text": [
      "t\n",
      "u\n",
      "p\n",
      "n\n",
      "i\n"
     ]
    }
   ],
   "source": [
    "# 10.Question: Write a Python program that takes a string as input and uses the range() function along with a for\n",
    "   #loop to print each character of the string in reverse order of their index.\n",
    "string = \"input\"\n",
    "for char in range(len(string)-1,-1,-1):\n",
    "    print(string[char])"
   ]
  },
  {
   "cell_type": "code",
   "execution_count": null,
   "id": "76d036fa-5a0e-44c4-a129-8e71ef899295",
   "metadata": {},
   "outputs": [],
   "source": []
  },
  {
   "cell_type": "code",
   "execution_count": null,
   "id": "211d6e46-6a47-4049-88fc-02a57e292e78",
   "metadata": {},
   "outputs": [],
   "source": []
  },
  {
   "cell_type": "code",
   "execution_count": null,
   "id": "8bf460f0-b8c3-4fab-a0ca-ed15dc35a647",
   "metadata": {},
   "outputs": [],
   "source": []
  },
  {
   "cell_type": "code",
   "execution_count": null,
   "id": "1e153830-ba00-4634-b65f-ff5d0eb0d286",
   "metadata": {},
   "outputs": [],
   "source": []
  }
 ],
 "metadata": {
  "kernelspec": {
   "display_name": "Python 3 (ipykernel)",
   "language": "python",
   "name": "python3"
  },
  "language_info": {
   "codemirror_mode": {
    "name": "ipython",
    "version": 3
   },
   "file_extension": ".py",
   "mimetype": "text/x-python",
   "name": "python",
   "nbconvert_exporter": "python",
   "pygments_lexer": "ipython3",
   "version": "3.13.5"
  }
 },
 "nbformat": 4,
 "nbformat_minor": 5
}
